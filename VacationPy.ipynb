{
 "cells": [
  {
   "cell_type": "markdown",
   "metadata": {},
   "source": [
    "# VacationPy\n",
    "\n",
    "Author: Alex Schanne"
   ]
  },
  {
   "cell_type": "markdown",
   "metadata": {},
   "source": [
    "This assignment will utilize skills in Python requests, APIs and JSON traversal in order to determine ideal vacation spots based on weather patterns change. More specifically this notebook will accomplish the following: \n",
    "<ul>\n",
    "    <li> Create a heat map that displays the humidity for every city from the part I of the homework.\n",
    "    <li> Narrow down the DataFrame to find your ideal weather condition. Based on criteria similar to the following:\n",
    "       <ul>\n",
    "        <li> A max temperature lower than 80 degrees but higher than 70.\n",
    "        <li> Wind speed less than 10 mph.\n",
    "        <li> Zero cloudiness.\n",
    "        </ul>\n",
    "    <li> Using Google Places API to find the first hotel for each city located within 5000 meters of your coordinates.\n",
    "    <li> Plot the hotels on top of the humidity heatmap with each pin containing the Hotel Name, City, and Country."
   ]
  },
  {
   "cell_type": "code",
   "execution_count": 1,
   "metadata": {},
   "outputs": [],
   "source": [
    "# Dependencies and Setup\n",
    "import matplotlib.pyplot as plt\n",
    "import pandas as pd\n",
    "import numpy as np\n",
    "import requests\n",
    "import gmaps\n",
    "import os\n",
    "\n",
    "# Import API key\n",
    "from config import g_key\n",
    "\n",
    "#configuring gmaps\n",
    "gmaps.configure(api_key = g_key)"
   ]
  },
  {
   "cell_type": "code",
   "execution_count": 2,
   "metadata": {},
   "outputs": [
    {
     "data": {
      "text/html": [
       "<div>\n",
       "<style scoped>\n",
       "    .dataframe tbody tr th:only-of-type {\n",
       "        vertical-align: middle;\n",
       "    }\n",
       "\n",
       "    .dataframe tbody tr th {\n",
       "        vertical-align: top;\n",
       "    }\n",
       "\n",
       "    .dataframe thead th {\n",
       "        text-align: right;\n",
       "    }\n",
       "</style>\n",
       "<table border=\"1\" class=\"dataframe\">\n",
       "  <thead>\n",
       "    <tr style=\"text-align: right;\">\n",
       "      <th></th>\n",
       "      <th>city</th>\n",
       "      <th>country</th>\n",
       "      <th>lat</th>\n",
       "      <th>lng</th>\n",
       "      <th>cloudiness</th>\n",
       "      <th>humidity</th>\n",
       "      <th>max_temp</th>\n",
       "      <th>wind_speed</th>\n",
       "    </tr>\n",
       "  </thead>\n",
       "  <tbody>\n",
       "    <tr>\n",
       "      <th>0</th>\n",
       "      <td>saint george</td>\n",
       "      <td>US</td>\n",
       "      <td>37.10</td>\n",
       "      <td>-113.58</td>\n",
       "      <td>1</td>\n",
       "      <td>13</td>\n",
       "      <td>102.20</td>\n",
       "      <td>13.87</td>\n",
       "    </tr>\n",
       "    <tr>\n",
       "      <th>1</th>\n",
       "      <td>palauig</td>\n",
       "      <td>PH</td>\n",
       "      <td>15.44</td>\n",
       "      <td>119.90</td>\n",
       "      <td>93</td>\n",
       "      <td>72</td>\n",
       "      <td>83.37</td>\n",
       "      <td>2.55</td>\n",
       "    </tr>\n",
       "    <tr>\n",
       "      <th>2</th>\n",
       "      <td>ushuaia</td>\n",
       "      <td>AR</td>\n",
       "      <td>-54.80</td>\n",
       "      <td>-68.30</td>\n",
       "      <td>75</td>\n",
       "      <td>80</td>\n",
       "      <td>33.80</td>\n",
       "      <td>21.92</td>\n",
       "    </tr>\n",
       "    <tr>\n",
       "      <th>3</th>\n",
       "      <td>provideniya</td>\n",
       "      <td>RU</td>\n",
       "      <td>64.38</td>\n",
       "      <td>-173.30</td>\n",
       "      <td>90</td>\n",
       "      <td>93</td>\n",
       "      <td>51.80</td>\n",
       "      <td>4.47</td>\n",
       "    </tr>\n",
       "    <tr>\n",
       "      <th>4</th>\n",
       "      <td>rikitea</td>\n",
       "      <td>PF</td>\n",
       "      <td>-23.12</td>\n",
       "      <td>-134.97</td>\n",
       "      <td>78</td>\n",
       "      <td>75</td>\n",
       "      <td>72.25</td>\n",
       "      <td>11.12</td>\n",
       "    </tr>\n",
       "  </tbody>\n",
       "</table>\n",
       "</div>"
      ],
      "text/plain": [
       "           city country    lat     lng  cloudiness  humidity  max_temp  \\\n",
       "0  saint george      US  37.10 -113.58           1        13    102.20   \n",
       "1       palauig      PH  15.44  119.90          93        72     83.37   \n",
       "2       ushuaia      AR -54.80  -68.30          75        80     33.80   \n",
       "3   provideniya      RU  64.38 -173.30          90        93     51.80   \n",
       "4       rikitea      PF -23.12 -134.97          78        75     72.25   \n",
       "\n",
       "   wind_speed  \n",
       "0       13.87  \n",
       "1        2.55  \n",
       "2       21.92  \n",
       "3        4.47  \n",
       "4       11.12  "
      ]
     },
     "execution_count": 2,
     "metadata": {},
     "output_type": "execute_result"
    }
   ],
   "source": [
    "#store weather_data.csv data into DataFrame\n",
    "vacation_weather = pd.read_csv(\"weather_data.csv\")\n",
    "\n",
    "#fill NaN values and convert to float\n",
    "vaca_weather = vacation_weather.dropna()\n",
    "vaca_weather.head()"
   ]
  },
  {
   "cell_type": "markdown",
   "metadata": {},
   "source": [
    "## Humidity Heatmapping"
   ]
  },
  {
   "cell_type": "code",
   "execution_count": 3,
   "metadata": {},
   "outputs": [
    {
     "name": "stdout",
     "output_type": "stream",
     "text": [
      "100.0\n"
     ]
    }
   ],
   "source": [
    "#store latitude and longitude as the weight and convert humidity to float\n",
    "location = vaca_weather[['lat', 'lng']]\n",
    "humid = vaca_weather['humidity'].astype(float)\n",
    "print(humid.max())"
   ]
  },
  {
   "cell_type": "code",
   "execution_count": 4,
   "metadata": {},
   "outputs": [
    {
     "data": {
      "application/vnd.jupyter.widget-view+json": {
       "model_id": "a20e3320b9a04dc586448ab07273664e",
       "version_major": 2,
       "version_minor": 0
      },
      "text/plain": [
       "Figure(layout=FigureLayout(border='1px solid black', height='600px', margin='0 auto 0 auto', padding='1px', wi…"
      ]
     },
     "metadata": {},
     "output_type": "display_data"
    }
   ],
   "source": [
    "#Plotting heatmap\n",
    "#Defining map settings\n",
    "figure_layout = {\n",
    "    'width': '900px',\n",
    "    'height': '600px',\n",
    "    'border': '1px solid black',\n",
    "    'padding': '1px',\n",
    "    'margin': '0 auto 0 auto'\n",
    "}\n",
    "\n",
    "#Creating figure\n",
    "fig = gmaps.figure(layout=figure_layout,zoom_level=2,center=(15,25))\n",
    "\n",
    "#Creating heat layer\n",
    "heat_layer = gmaps.heatmap_layer(location, weights=humid,\n",
    "                                dissipating=False,max_intensity=100,\n",
    "                                point_radius = 1.5)\n",
    "\n",
    "#Adding heat layer\n",
    "fig.add_layer(heat_layer)\n",
    "\n",
    "#Display figure\n",
    "fig"
   ]
  },
  {
   "cell_type": "markdown",
   "metadata": {},
   "source": [
    "## Narrowing Down Vacation Location"
   ]
  },
  {
   "cell_type": "code",
   "execution_count": 12,
   "metadata": {},
   "outputs": [
    {
     "data": {
      "text/html": [
       "<div>\n",
       "<style scoped>\n",
       "    .dataframe tbody tr th:only-of-type {\n",
       "        vertical-align: middle;\n",
       "    }\n",
       "\n",
       "    .dataframe tbody tr th {\n",
       "        vertical-align: top;\n",
       "    }\n",
       "\n",
       "    .dataframe thead th {\n",
       "        text-align: right;\n",
       "    }\n",
       "</style>\n",
       "<table border=\"1\" class=\"dataframe\">\n",
       "  <thead>\n",
       "    <tr style=\"text-align: right;\">\n",
       "      <th></th>\n",
       "      <th>city</th>\n",
       "      <th>country</th>\n",
       "      <th>lat</th>\n",
       "      <th>lng</th>\n",
       "      <th>cloudiness</th>\n",
       "      <th>humidity</th>\n",
       "      <th>max_temp</th>\n",
       "      <th>wind_speed</th>\n",
       "    </tr>\n",
       "  </thead>\n",
       "  <tbody>\n",
       "    <tr>\n",
       "      <th>97</th>\n",
       "      <td>bad bevensen</td>\n",
       "      <td>EG</td>\n",
       "      <td>24.09</td>\n",
       "      <td>32.91</td>\n",
       "      <td>24</td>\n",
       "      <td>15</td>\n",
       "      <td>91.15</td>\n",
       "      <td>7.94</td>\n",
       "    </tr>\n",
       "    <tr>\n",
       "      <th>347</th>\n",
       "      <td>reinosa</td>\n",
       "      <td>IR</td>\n",
       "      <td>30.81</td>\n",
       "      <td>56.56</td>\n",
       "      <td>0</td>\n",
       "      <td>22</td>\n",
       "      <td>71.22</td>\n",
       "      <td>3.71</td>\n",
       "    </tr>\n",
       "    <tr>\n",
       "      <th>389</th>\n",
       "      <td>brokopondo</td>\n",
       "      <td>US</td>\n",
       "      <td>44.37</td>\n",
       "      <td>-100.35</td>\n",
       "      <td>1</td>\n",
       "      <td>22</td>\n",
       "      <td>93.99</td>\n",
       "      <td>11.41</td>\n",
       "    </tr>\n",
       "  </tbody>\n",
       "</table>\n",
       "</div>"
      ],
      "text/plain": [
       "             city country    lat     lng  cloudiness  humidity  max_temp  \\\n",
       "97   bad bevensen      EG  24.09   32.91          24        15     91.15   \n",
       "347       reinosa      IR  30.81   56.56           0        22     71.22   \n",
       "389    brokopondo      US  44.37 -100.35           1        22     93.99   \n",
       "\n",
       "     wind_speed  \n",
       "97         7.94  \n",
       "347        3.71  \n",
       "389       11.41  "
      ]
     },
     "execution_count": 12,
     "metadata": {},
     "output_type": "execute_result"
    }
   ],
   "source": [
    "#Using vacation location criteria to narrow down cities\n",
    "ideal_temp = (vaca_weather.max_temp <= 95) & (vaca_weather.max_temp >= 70)\n",
    "ideal_humid = vaca_weather.humidity < 25\n",
    "ideal_wind = vaca_weather.wind_speed < 25\n",
    "ideal_cloud = vaca_weather.cloudiness < 25\n",
    "ideal_conditions = ideal_temp & ideal_humid & ideal_wind & ideal_cloud\n",
    "\n",
    "#using boolean indexing to filter the dataframe\n",
    "ideal_vaca = vaca_weather[ideal_conditions].dropna()\n",
    "ideal_vaca.head()"
   ]
  },
  {
   "cell_type": "markdown",
   "metadata": {},
   "source": [
    "## Hotel Mapping"
   ]
  },
  {
   "cell_type": "code",
   "execution_count": 13,
   "metadata": {},
   "outputs": [
    {
     "data": {
      "text/html": [
       "<div>\n",
       "<style scoped>\n",
       "    .dataframe tbody tr th:only-of-type {\n",
       "        vertical-align: middle;\n",
       "    }\n",
       "\n",
       "    .dataframe tbody tr th {\n",
       "        vertical-align: top;\n",
       "    }\n",
       "\n",
       "    .dataframe thead th {\n",
       "        text-align: right;\n",
       "    }\n",
       "</style>\n",
       "<table border=\"1\" class=\"dataframe\">\n",
       "  <thead>\n",
       "    <tr style=\"text-align: right;\">\n",
       "      <th></th>\n",
       "      <th>city</th>\n",
       "      <th>country</th>\n",
       "      <th>lat</th>\n",
       "      <th>lng</th>\n",
       "      <th>cloudiness</th>\n",
       "      <th>humidity</th>\n",
       "      <th>max_temp</th>\n",
       "      <th>wind_speed</th>\n",
       "      <th>hotel</th>\n",
       "    </tr>\n",
       "  </thead>\n",
       "  <tbody>\n",
       "    <tr>\n",
       "      <th>97</th>\n",
       "      <td>bad bevensen</td>\n",
       "      <td>EG</td>\n",
       "      <td>24.09</td>\n",
       "      <td>32.91</td>\n",
       "      <td>24</td>\n",
       "      <td>15</td>\n",
       "      <td>91.15</td>\n",
       "      <td>7.94</td>\n",
       "      <td></td>\n",
       "    </tr>\n",
       "    <tr>\n",
       "      <th>347</th>\n",
       "      <td>reinosa</td>\n",
       "      <td>IR</td>\n",
       "      <td>30.81</td>\n",
       "      <td>56.56</td>\n",
       "      <td>0</td>\n",
       "      <td>22</td>\n",
       "      <td>71.22</td>\n",
       "      <td>3.71</td>\n",
       "      <td></td>\n",
       "    </tr>\n",
       "    <tr>\n",
       "      <th>389</th>\n",
       "      <td>brokopondo</td>\n",
       "      <td>US</td>\n",
       "      <td>44.37</td>\n",
       "      <td>-100.35</td>\n",
       "      <td>1</td>\n",
       "      <td>22</td>\n",
       "      <td>93.99</td>\n",
       "      <td>11.41</td>\n",
       "      <td></td>\n",
       "    </tr>\n",
       "  </tbody>\n",
       "</table>\n",
       "</div>"
      ],
      "text/plain": [
       "             city country    lat     lng  cloudiness  humidity  max_temp  \\\n",
       "97   bad bevensen      EG  24.09   32.91          24        15     91.15   \n",
       "347       reinosa      IR  30.81   56.56           0        22     71.22   \n",
       "389    brokopondo      US  44.37 -100.35           1        22     93.99   \n",
       "\n",
       "     wind_speed hotel  \n",
       "97         7.94        \n",
       "347        3.71        \n",
       "389       11.41        "
      ]
     },
     "execution_count": 13,
     "metadata": {},
     "output_type": "execute_result"
    }
   ],
   "source": [
    "#Creating a DataFrame for the hotels\n",
    "hotels = ideal_vaca\n",
    "hotels['hotel'] = ''\n",
    "\n",
    "hotels.head()"
   ]
  },
  {
   "cell_type": "code",
   "execution_count": 14,
   "metadata": {},
   "outputs": [
    {
     "data": {
      "text/html": [
       "<div>\n",
       "<style scoped>\n",
       "    .dataframe tbody tr th:only-of-type {\n",
       "        vertical-align: middle;\n",
       "    }\n",
       "\n",
       "    .dataframe tbody tr th {\n",
       "        vertical-align: top;\n",
       "    }\n",
       "\n",
       "    .dataframe thead th {\n",
       "        text-align: right;\n",
       "    }\n",
       "</style>\n",
       "<table border=\"1\" class=\"dataframe\">\n",
       "  <thead>\n",
       "    <tr style=\"text-align: right;\">\n",
       "      <th></th>\n",
       "      <th>city</th>\n",
       "      <th>country</th>\n",
       "      <th>lat</th>\n",
       "      <th>lng</th>\n",
       "      <th>cloudiness</th>\n",
       "      <th>humidity</th>\n",
       "      <th>max_temp</th>\n",
       "      <th>wind_speed</th>\n",
       "      <th>hotel</th>\n",
       "    </tr>\n",
       "  </thead>\n",
       "  <tbody>\n",
       "    <tr>\n",
       "      <th>97</th>\n",
       "      <td>bad bevensen</td>\n",
       "      <td>EG</td>\n",
       "      <td>24.09</td>\n",
       "      <td>32.91</td>\n",
       "      <td>24</td>\n",
       "      <td>15</td>\n",
       "      <td>91.15</td>\n",
       "      <td>7.94</td>\n",
       "      <td>Sofitel Legend Old Cataract Aswan</td>\n",
       "    </tr>\n",
       "    <tr>\n",
       "      <th>347</th>\n",
       "      <td>reinosa</td>\n",
       "      <td>IR</td>\n",
       "      <td>30.81</td>\n",
       "      <td>56.56</td>\n",
       "      <td>0</td>\n",
       "      <td>22</td>\n",
       "      <td>71.22</td>\n",
       "      <td>3.71</td>\n",
       "      <td>تالار قصر زرند(پردیس)</td>\n",
       "    </tr>\n",
       "    <tr>\n",
       "      <th>389</th>\n",
       "      <td>brokopondo</td>\n",
       "      <td>US</td>\n",
       "      <td>44.37</td>\n",
       "      <td>-100.35</td>\n",
       "      <td>1</td>\n",
       "      <td>22</td>\n",
       "      <td>93.99</td>\n",
       "      <td>11.41</td>\n",
       "      <td>Clubhouse Hotel &amp; Suites</td>\n",
       "    </tr>\n",
       "  </tbody>\n",
       "</table>\n",
       "</div>"
      ],
      "text/plain": [
       "             city country    lat     lng  cloudiness  humidity  max_temp  \\\n",
       "97   bad bevensen      EG  24.09   32.91          24        15     91.15   \n",
       "347       reinosa      IR  30.81   56.56           0        22     71.22   \n",
       "389    brokopondo      US  44.37 -100.35           1        22     93.99   \n",
       "\n",
       "     wind_speed                              hotel  \n",
       "97         7.94  Sofitel Legend Old Cataract Aswan  \n",
       "347        3.71              تالار قصر زرند(پردیس)  \n",
       "389       11.41           Clubhouse Hotel & Suites  "
      ]
     },
     "execution_count": 14,
     "metadata": {},
     "output_type": "execute_result"
    }
   ],
   "source": [
    "#params dictionary \n",
    "params = {\n",
    "    \"radius\": 5000,\n",
    "    \"types\": \"lodging\",\n",
    "    \"keyword\": \"Hotel\",\n",
    "    \"key\": g_key\n",
    "}\n",
    "\n",
    "#using location data to recover hotel options\n",
    "for index, row in hotels.iterrows():\n",
    "    lat = row['lat']\n",
    "    lng = row['lng']\n",
    "    \n",
    "    #change location each iteration \n",
    "    params['location'] = f'{lat},{lng}'\n",
    "    \n",
    "    #get the api base url\n",
    "    base_url = \"https://maps.googleapis.com/maps/api/place/nearbysearch/json\"\n",
    "\n",
    "    #make request and convert to json\n",
    "    response = requests.get(base_url, params=params).json()\n",
    "    \n",
    "    #update dataframe\n",
    "    try:\n",
    "        hotels.loc[index, \"hotel\"] = response['results'][0]['name']\n",
    "    except:\n",
    "        print(\"Could not find any results matching request.\")\n",
    "    continue\n",
    "\n",
    "hotels.head()"
   ]
  },
  {
   "cell_type": "code",
   "execution_count": 15,
   "metadata": {},
   "outputs": [],
   "source": [
    "# NOTE: Do not change any of the code in this cell\n",
    "\n",
    "# Using the template add the hotel marks to the heatmap\n",
    "info_box_template = \"\"\"\n",
    "<dl>\n",
    "<dt>Name</dt><dd>{hotel}</dd>\n",
    "<dt>City</dt><dd>{city}</dd>\n",
    "<dt>Country</dt><dd>{country}</dd>\n",
    "#</dl>\n",
    "\"\"\"\n",
    "# Store the DataFrame Row\n",
    "# NOTE: be sure to update with your DataFrame name\n",
    "hotel_info = [info_box_template.format(**row) for index, row in hotels.iterrows()]\n",
    "locations = hotels[[\"lat\", \"lng\"]]"
   ]
  },
  {
   "cell_type": "code",
   "execution_count": 17,
   "metadata": {},
   "outputs": [
    {
     "data": {
      "application/vnd.jupyter.widget-view+json": {
       "model_id": "a20e3320b9a04dc586448ab07273664e",
       "version_major": 2,
       "version_minor": 0
      },
      "text/plain": [
       "Figure(layout=FigureLayout(border='1px solid black', height='600px', margin='0 auto 0 auto', padding='1px', wi…"
      ]
     },
     "metadata": {},
     "output_type": "display_data"
    }
   ],
   "source": [
    "# Add marker layer ontop of heat map\n",
    "hotel_layer = gmaps.marker_layer(locations,\n",
    "                                info_box_content = [info_box_template.format(**row) for index,\n",
    "                                row in hotels.iterrows()])\n",
    "fig.add_layer(hotel_layer)\n",
    "\n",
    "# Display figure\n",
    "fig"
   ]
  },
  {
   "cell_type": "code",
   "execution_count": null,
   "metadata": {},
   "outputs": [],
   "source": []
  }
 ],
 "metadata": {
  "kernelspec": {
   "display_name": "Python [conda env:PythonData] *",
   "language": "python",
   "name": "conda-env-PythonData-py"
  },
  "language_info": {
   "codemirror_mode": {
    "name": "ipython",
    "version": 3
   },
   "file_extension": ".py",
   "mimetype": "text/x-python",
   "name": "python",
   "nbconvert_exporter": "python",
   "pygments_lexer": "ipython3",
   "version": "3.6.10"
  }
 },
 "nbformat": 4,
 "nbformat_minor": 4
}
